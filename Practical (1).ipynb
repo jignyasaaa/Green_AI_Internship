{
 "cells": [
  {
   "cell_type": "code",
   "execution_count": 1,
   "id": "f48dba49-1ba9-4f8b-b145-636e6676ca52",
   "metadata": {},
   "outputs": [
    {
     "name": "stdout",
     "output_type": "stream",
     "text": [
      "25°C is equal to 77.0°F\n"
     ]
    }
   ],
   "source": [
    "'''write the code to convert the temperatur c to f'''\n",
    "def celsius_to_fahrenheit(celsius):\n",
    "    return (celsius * 9/5) + 32\n",
    "\n",
    "# Example usage\n",
    "celsius = 25\n",
    "fahrenheit = celsius_to_fahrenheit(celsius)\n",
    "print(f\"{celsius}°C is equal to {fahrenheit}°F\")\n"
   ]
  },
  {
   "cell_type": "code",
   "execution_count": 2,
   "id": "9a0b3bdc-d048-4d69-818b-2ec09b13742d",
   "metadata": {},
   "outputs": [
    {
     "name": "stdout",
     "output_type": "stream",
     "text": [
      "Your total carbon footprint is 133.5 kg CO2\n"
     ]
    }
   ],
   "source": [
    "#individual carbo foot print\n",
    "def calculate_carbon_footprint(transport_km, electricity_kwh, waste_kg):\n",
    "    # Emission factors (in kg CO2 per unit)\n",
    "    transport_emission_factor = 0.21  # kg CO2 per km (average car)\n",
    "    electricity_emission_factor = 0.5  # kg CO2 per kWh (average electricity mix)\n",
    "    waste_emission_factor = 0.25  # kg CO2 per kg of waste\n",
    "\n",
    "    # Calculate emissions\n",
    "    transport_emissions = transport_km * transport_emission_factor\n",
    "    electricity_emissions = electricity_kwh * electricity_emission_factor\n",
    "    waste_emissions = waste_kg * waste_emission_factor\n",
    "\n",
    "    # Total carbon footprint\n",
    "    total_emissions = transport_emissions + electricity_emissions + waste_emissions\n",
    "    return total_emissions\n",
    "\n",
    "# Example usage\n",
    "transport_km = 100  # kilometers traveled by car\n",
    "electricity_kwh = 200  # kilowatt-hours of electricity used\n",
    "waste_kg = 50  # kilograms of waste produced\n",
    "\n",
    "carbon_footprint = calculate_carbon_footprint(transport_km, electricity_kwh, waste_kg)\n",
    "print(f\"Your total carbon footprint is {carbon_footprint} kg CO2\")\n"
   ]
  },
  {
   "cell_type": "code",
   "execution_count": 3,
   "id": "3226b9e1-b411-4c98-ae17-b4597953715f",
   "metadata": {},
   "outputs": [
    {
     "name": "stdout",
     "output_type": "stream",
     "text": [
      "True\n",
      "False\n",
      "True\n",
      "False\n"
     ]
    }
   ],
   "source": [
    "# Using 'is' operator\n",
    "a = [1, 2, 3]\n",
    "b = a\n",
    "c = [1, 2, 3]\n",
    "\n",
    "print(a is b)  # True, because 'b' is the same object as 'a'\n",
    "print(a is c)  # False, because 'c' is a different object, even though it has the same content\n",
    "\n",
    "# Using 'in' operator\n",
    "fruits = ['apple', 'banana', 'cherry']\n",
    "print('banana' in fruits)  # True, because 'banana' is in the list 'fruits'\n",
    "print('grape' in fruits)   # False, because 'grape' is not in the list 'fruits'\n"
   ]
  },
  {
   "cell_type": "code",
   "execution_count": 4,
   "id": "655dd96d-916c-4bc5-86fb-8c68472af453",
   "metadata": {},
   "outputs": [],
   "source": [
    "#How can we make any ptoduct sustainable \n",
    "#1. Eco-friendly\n",
    "#2. Energy Efficient \n",
    "#3. Durability\n",
    "#4. Ethical\n",
    "#5. Minimum packaging"
   ]
  },
  {
   "cell_type": "code",
   "execution_count": 5,
   "id": "4ba9ddd9-1581-4eb9-b2ec-062e1daabadc",
   "metadata": {},
   "outputs": [
    {
     "data": {
      "text/plain": [
       "\"Creating an AI project involves several key stages, each crucial for the successful development and deployment of the AI system. Here's a typical AI project cycle:\\n\\n### 1. Problem Definition\\n- **Identify the Problem**: Clearly define the problem you want to solve with AI.\\n- **Set Objectives**: Establish specific, measurable goals for the project.\\n\\n### 2. Data Collection\\n- **Gather Data**: Collect relevant data from various sources.\\n- **Data Quality**: Ensure the data is accurate, complete, and representative.\\n\\n### 3. Data Preparation\\n- **Data Cleaning**: Remove or correct any errors or inconsistencies in the data.\\n- **Data Transformation**: Convert data into a suitable format for analysis.\\n- **Feature Engineering**: Create new features or variables that can improve the model's performance.\\n\\n### 4. Model Selection\\n- **Choose Algorithms**: Select appropriate machine learning algorithms based on the problem and data.\\n- **Baseline Model**: Develop a simple model to establish a performance baseline.\\n\\n### 5. Model Training\\n- **Train Models**: Use the training data to build and train multiple models.\\n- **Hyperparameter Tuning**: Optimize the model's hyperparameters to improve performance.\\n\\n### 6. Model Evaluation\\n- **Evaluate Models**: Assess the models using validation data and performance metrics.\\n- **Select Best Model**: Choose the model that performs best on the evaluation criteria.\\n\\n### 7. Model Deployment\\n- **Deploy Model**: Integrate the model into the production environment.\\n- **Monitor Performance**: Continuously monitor the model's performance and make adjustments as needed.\\n\\n### 8. Maintenance and Updates\\n- **Regular Updates**: Update the model with new data and retrain it periodically.\\n- **Performance Monitoring**: Keep track of the model's performance over time and address any issues that arise.\\n\""
      ]
     },
     "execution_count": 5,
     "metadata": {},
     "output_type": "execute_result"
    }
   ],
   "source": [
    "'''Creating an AI project involves several key stages, each crucial for the successful development and deployment of the AI system. Here's a typical AI project cycle:\n",
    "\n",
    "### 1. Problem Definition\n",
    "- **Identify the Problem**: Clearly define the problem you want to solve with AI.\n",
    "- **Set Objectives**: Establish specific, measurable goals for the project.\n",
    "\n",
    "### 2. Data Collection\n",
    "- **Gather Data**: Collect relevant data from various sources.\n",
    "- **Data Quality**: Ensure the data is accurate, complete, and representative.\n",
    "\n",
    "### 3. Data Preparation\n",
    "- **Data Cleaning**: Remove or correct any errors or inconsistencies in the data.\n",
    "- **Data Transformation**: Convert data into a suitable format for analysis.\n",
    "- **Feature Engineering**: Create new features or variables that can improve the model's performance.\n",
    "\n",
    "### 4. Model Selection\n",
    "- **Choose Algorithms**: Select appropriate machine learning algorithms based on the problem and data.\n",
    "- **Baseline Model**: Develop a simple model to establish a performance baseline.\n",
    "\n",
    "### 5. Model Training\n",
    "- **Train Models**: Use the training data to build and train multiple models.\n",
    "- **Hyperparameter Tuning**: Optimize the model's hyperparameters to improve performance.\n",
    "\n",
    "### 6. Model Evaluation\n",
    "- **Evaluate Models**: Assess the models using validation data and performance metrics.\n",
    "- **Select Best Model**: Choose the model that performs best on the evaluation criteria.\n",
    "\n",
    "### 7. Model Deployment\n",
    "- **Deploy Model**: Integrate the model into the production environment.\n",
    "- **Monitor Performance**: Continuously monitor the model's performance and make adjustments as needed.\n",
    "\n",
    "### 8. Maintenance and Updates\n",
    "- **Regular Updates**: Update the model with new data and retrain it periodically.\n",
    "- **Performance Monitoring**: Keep track of the model's performance over time and address any issues that arise.\n",
    "'''\n"
   ]
  },
  {
   "cell_type": "code",
   "execution_count": 6,
   "id": "caa3b607-9370-4d45-aa0a-9f89ce2033a5",
   "metadata": {},
   "outputs": [
    {
     "name": "stdin",
     "output_type": "stream",
     "text": [
      "Enter the year Like 2002 2024\n"
     ]
    },
    {
     "name": "stdout",
     "output_type": "stream",
     "text": [
      "2024 is a leap year: True\n"
     ]
    }
   ],
   "source": [
    "is_leap_year = lambda year: (year % 4 == 0 and year % 100 != 0) or (year % 400 == 0)\n",
    "\n",
    "year = int(input(\"Enter the year Like 2002\"))\n",
    "print(f\"{year} is a leap year: {is_leap_year(year)}\")\n"
   ]
  },
  {
   "cell_type": "code",
   "execution_count": 7,
   "id": "c74cf547-d40c-4b7f-8b27-a3c6f32e1615",
   "metadata": {},
   "outputs": [
    {
     "name": "stdout",
     "output_type": "stream",
     "text": [
      "Renewable: 0    Solar\n",
      "1     Wind\n",
      "dtype: object\n"
     ]
    }
   ],
   "source": [
    "import pandas as pd\n",
    "\n",
    "renewable_source = [\"Solar\", \"Wind\"]\n",
    "\n",
    "data = {\n",
    "    \"Project\": [\"Solar Farm A\", \"Wind Turbine X\", \"Hydropower Y\", \"Solar Roof Z\", \"Geothermal Plant P\"],\n",
    "    \"Technology\": [\"Solar\", \"Wind\", \"Hydropower\", \"Solar\", \"Geothermal\"],\n",
    "    \"Capacity (MW)\": [150, 300, 200, 50, 100],  # Megawatts\n",
    "    \"Cost (Million $)\": [200, 400, 350, 100, 250],  # Project cost\n",
    "    \"Location\": [\"California\", \"Texas\", \"Washington\", \"Nevada\", \"Idaho\"],\n",
    "    \"Completion Year\": [2023, 2024, 2022, 2025, 2023]\n",
    "}\n",
    "\n",
    "renewable_series = pd.Series(renewable_source)\n",
    "\n",
    "print(\"Renewable:\", renewable_series)\n"
   ]
  },
  {
   "cell_type": "code",
   "execution_count": 8,
   "id": "67b3ecd3-5688-438f-a5ea-ba9db0e3f30d",
   "metadata": {},
   "outputs": [
    {
     "data": {
      "text/html": [
       "<div>\n",
       "<style scoped>\n",
       "    .dataframe tbody tr th:only-of-type {\n",
       "        vertical-align: middle;\n",
       "    }\n",
       "\n",
       "    .dataframe tbody tr th {\n",
       "        vertical-align: top;\n",
       "    }\n",
       "\n",
       "    .dataframe thead th {\n",
       "        text-align: right;\n",
       "    }\n",
       "</style>\n",
       "<table border=\"1\" class=\"dataframe\">\n",
       "  <thead>\n",
       "    <tr style=\"text-align: right;\">\n",
       "      <th></th>\n",
       "      <th>Project</th>\n",
       "      <th>Technology</th>\n",
       "      <th>Capacity (MW)</th>\n",
       "      <th>Cost (Million $)</th>\n",
       "      <th>Location</th>\n",
       "      <th>Completion Year</th>\n",
       "    </tr>\n",
       "  </thead>\n",
       "  <tbody>\n",
       "    <tr>\n",
       "      <th>0</th>\n",
       "      <td>Solar Farm A</td>\n",
       "      <td>Solar</td>\n",
       "      <td>150</td>\n",
       "      <td>200</td>\n",
       "      <td>California</td>\n",
       "      <td>2023</td>\n",
       "    </tr>\n",
       "    <tr>\n",
       "      <th>1</th>\n",
       "      <td>Wind Turbine X</td>\n",
       "      <td>Wind</td>\n",
       "      <td>300</td>\n",
       "      <td>400</td>\n",
       "      <td>Texas</td>\n",
       "      <td>2024</td>\n",
       "    </tr>\n",
       "    <tr>\n",
       "      <th>2</th>\n",
       "      <td>Hydropower Y</td>\n",
       "      <td>Hydropower</td>\n",
       "      <td>200</td>\n",
       "      <td>350</td>\n",
       "      <td>Washington</td>\n",
       "      <td>2022</td>\n",
       "    </tr>\n",
       "    <tr>\n",
       "      <th>3</th>\n",
       "      <td>Solar Roof Z</td>\n",
       "      <td>Solar</td>\n",
       "      <td>50</td>\n",
       "      <td>100</td>\n",
       "      <td>Nevada</td>\n",
       "      <td>2025</td>\n",
       "    </tr>\n",
       "    <tr>\n",
       "      <th>4</th>\n",
       "      <td>Geothermal Plant P</td>\n",
       "      <td>Geothermal</td>\n",
       "      <td>100</td>\n",
       "      <td>250</td>\n",
       "      <td>Idaho</td>\n",
       "      <td>2023</td>\n",
       "    </tr>\n",
       "  </tbody>\n",
       "</table>\n",
       "</div>"
      ],
      "text/plain": [
       "              Project  Technology  Capacity (MW)  Cost (Million $)  \\\n",
       "0        Solar Farm A       Solar            150               200   \n",
       "1      Wind Turbine X        Wind            300               400   \n",
       "2        Hydropower Y  Hydropower            200               350   \n",
       "3        Solar Roof Z       Solar             50               100   \n",
       "4  Geothermal Plant P  Geothermal            100               250   \n",
       "\n",
       "     Location  Completion Year  \n",
       "0  California             2023  \n",
       "1       Texas             2024  \n",
       "2  Washington             2022  \n",
       "3      Nevada             2025  \n",
       "4       Idaho             2023  "
      ]
     },
     "execution_count": 8,
     "metadata": {},
     "output_type": "execute_result"
    }
   ],
   "source": [
    "project_df = pd.DataFrame(data)\n",
    "project_df.head()"
   ]
  },
  {
   "cell_type": "code",
   "execution_count": 9,
   "id": "1dbd10f2-a4b0-4c50-b18c-c0cc0a5b3f93",
   "metadata": {},
   "outputs": [
    {
     "data": {
      "text/html": [
       "<div>\n",
       "<style scoped>\n",
       "    .dataframe tbody tr th:only-of-type {\n",
       "        vertical-align: middle;\n",
       "    }\n",
       "\n",
       "    .dataframe tbody tr th {\n",
       "        vertical-align: top;\n",
       "    }\n",
       "\n",
       "    .dataframe thead th {\n",
       "        text-align: right;\n",
       "    }\n",
       "</style>\n",
       "<table border=\"1\" class=\"dataframe\">\n",
       "  <thead>\n",
       "    <tr style=\"text-align: right;\">\n",
       "      <th></th>\n",
       "      <th>Project</th>\n",
       "      <th>Technology</th>\n",
       "      <th>Capacity (MW)</th>\n",
       "      <th>Cost (Million $)</th>\n",
       "      <th>Location</th>\n",
       "      <th>Completion Year</th>\n",
       "    </tr>\n",
       "  </thead>\n",
       "  <tbody>\n",
       "    <tr>\n",
       "      <th>1</th>\n",
       "      <td>Wind Turbine X</td>\n",
       "      <td>Wind</td>\n",
       "      <td>300</td>\n",
       "      <td>400</td>\n",
       "      <td>Texas</td>\n",
       "      <td>2024</td>\n",
       "    </tr>\n",
       "    <tr>\n",
       "      <th>2</th>\n",
       "      <td>Hydropower Y</td>\n",
       "      <td>Hydropower</td>\n",
       "      <td>200</td>\n",
       "      <td>350</td>\n",
       "      <td>Washington</td>\n",
       "      <td>2022</td>\n",
       "    </tr>\n",
       "  </tbody>\n",
       "</table>\n",
       "</div>"
      ],
      "text/plain": [
       "          Project  Technology  Capacity (MW)  Cost (Million $)    Location  \\\n",
       "1  Wind Turbine X        Wind            300               400       Texas   \n",
       "2    Hydropower Y  Hydropower            200               350  Washington   \n",
       "\n",
       "   Completion Year  \n",
       "1             2024  \n",
       "2             2022  "
      ]
     },
     "execution_count": 9,
     "metadata": {},
     "output_type": "execute_result"
    }
   ],
   "source": [
    "\n",
    "project_df = pd.DataFrame(data)\n",
    "\n",
    "# Accessing the third row (index position 2)\n",
    "specific_row = project_df.iloc[[1,2]]\n",
    "\n",
    "specific_row.head()"
   ]
  },
  {
   "cell_type": "code",
   "execution_count": 10,
   "id": "a5bd6ade-67f3-4873-a667-8a6fba26af23",
   "metadata": {},
   "outputs": [
    {
     "name": "stdout",
     "output_type": "stream",
     "text": [
      "<class 'pandas.core.frame.DataFrame'>\n",
      "RangeIndex: 5 entries, 0 to 4\n",
      "Data columns (total 6 columns):\n",
      " #   Column            Non-Null Count  Dtype \n",
      "---  ------            --------------  ----- \n",
      " 0   Project           5 non-null      object\n",
      " 1   Technology        5 non-null      object\n",
      " 2   Capacity (MW)     5 non-null      int64 \n",
      " 3   Cost (Million $)  5 non-null      int64 \n",
      " 4   Location          5 non-null      object\n",
      " 5   Completion Year   5 non-null      int64 \n",
      "dtypes: int64(3), object(3)\n",
      "memory usage: 372.0+ bytes\n"
     ]
    }
   ],
   "source": [
    "project_df.info()"
   ]
  },
  {
   "cell_type": "code",
   "execution_count": 11,
   "id": "fcbd1d8e-c3b8-42eb-8188-a2bd91c73e05",
   "metadata": {},
   "outputs": [
    {
     "data": {
      "text/html": [
       "<div>\n",
       "<style scoped>\n",
       "    .dataframe tbody tr th:only-of-type {\n",
       "        vertical-align: middle;\n",
       "    }\n",
       "\n",
       "    .dataframe tbody tr th {\n",
       "        vertical-align: top;\n",
       "    }\n",
       "\n",
       "    .dataframe thead th {\n",
       "        text-align: right;\n",
       "    }\n",
       "</style>\n",
       "<table border=\"1\" class=\"dataframe\">\n",
       "  <thead>\n",
       "    <tr style=\"text-align: right;\">\n",
       "      <th></th>\n",
       "      <th>Capacity (MW)</th>\n",
       "      <th>Cost (Million $)</th>\n",
       "      <th>Completion Year</th>\n",
       "    </tr>\n",
       "  </thead>\n",
       "  <tbody>\n",
       "    <tr>\n",
       "      <th>count</th>\n",
       "      <td>5.00000</td>\n",
       "      <td>5.000000</td>\n",
       "      <td>5.000000</td>\n",
       "    </tr>\n",
       "    <tr>\n",
       "      <th>mean</th>\n",
       "      <td>160.00000</td>\n",
       "      <td>260.000000</td>\n",
       "      <td>2023.400000</td>\n",
       "    </tr>\n",
       "    <tr>\n",
       "      <th>std</th>\n",
       "      <td>96.17692</td>\n",
       "      <td>119.373364</td>\n",
       "      <td>1.140175</td>\n",
       "    </tr>\n",
       "    <tr>\n",
       "      <th>min</th>\n",
       "      <td>50.00000</td>\n",
       "      <td>100.000000</td>\n",
       "      <td>2022.000000</td>\n",
       "    </tr>\n",
       "    <tr>\n",
       "      <th>25%</th>\n",
       "      <td>100.00000</td>\n",
       "      <td>200.000000</td>\n",
       "      <td>2023.000000</td>\n",
       "    </tr>\n",
       "    <tr>\n",
       "      <th>50%</th>\n",
       "      <td>150.00000</td>\n",
       "      <td>250.000000</td>\n",
       "      <td>2023.000000</td>\n",
       "    </tr>\n",
       "    <tr>\n",
       "      <th>75%</th>\n",
       "      <td>200.00000</td>\n",
       "      <td>350.000000</td>\n",
       "      <td>2024.000000</td>\n",
       "    </tr>\n",
       "    <tr>\n",
       "      <th>max</th>\n",
       "      <td>300.00000</td>\n",
       "      <td>400.000000</td>\n",
       "      <td>2025.000000</td>\n",
       "    </tr>\n",
       "  </tbody>\n",
       "</table>\n",
       "</div>"
      ],
      "text/plain": [
       "       Capacity (MW)  Cost (Million $)  Completion Year\n",
       "count        5.00000          5.000000         5.000000\n",
       "mean       160.00000        260.000000      2023.400000\n",
       "std         96.17692        119.373364         1.140175\n",
       "min         50.00000        100.000000      2022.000000\n",
       "25%        100.00000        200.000000      2023.000000\n",
       "50%        150.00000        250.000000      2023.000000\n",
       "75%        200.00000        350.000000      2024.000000\n",
       "max        300.00000        400.000000      2025.000000"
      ]
     },
     "execution_count": 11,
     "metadata": {},
     "output_type": "execute_result"
    }
   ],
   "source": [
    "project_df.describe()"
   ]
  },
  {
   "cell_type": "code",
   "execution_count": 12,
   "id": "ebdd15f1-a61d-4f4b-8308-208dd2668ceb",
   "metadata": {},
   "outputs": [
    {
     "data": {
      "text/html": [
       "<div>\n",
       "<style scoped>\n",
       "    .dataframe tbody tr th:only-of-type {\n",
       "        vertical-align: middle;\n",
       "    }\n",
       "\n",
       "    .dataframe tbody tr th {\n",
       "        vertical-align: top;\n",
       "    }\n",
       "\n",
       "    .dataframe thead th {\n",
       "        text-align: right;\n",
       "    }\n",
       "</style>\n",
       "<table border=\"1\" class=\"dataframe\">\n",
       "  <thead>\n",
       "    <tr style=\"text-align: right;\">\n",
       "      <th></th>\n",
       "      <th>Project</th>\n",
       "      <th>Technology</th>\n",
       "      <th>Capacity (MW)</th>\n",
       "      <th>Cost (Million $)</th>\n",
       "      <th>Location</th>\n",
       "      <th>Completion Year</th>\n",
       "    </tr>\n",
       "  </thead>\n",
       "  <tbody>\n",
       "    <tr>\n",
       "      <th>0</th>\n",
       "      <td>Solar Farm A</td>\n",
       "      <td>Solar</td>\n",
       "      <td>150</td>\n",
       "      <td>200</td>\n",
       "      <td>California</td>\n",
       "      <td>2023</td>\n",
       "    </tr>\n",
       "    <tr>\n",
       "      <th>1</th>\n",
       "      <td>Wind Turbine X</td>\n",
       "      <td>Wind</td>\n",
       "      <td>300</td>\n",
       "      <td>400</td>\n",
       "      <td>Texas</td>\n",
       "      <td>2024</td>\n",
       "    </tr>\n",
       "    <tr>\n",
       "      <th>2</th>\n",
       "      <td>Hydropower Y</td>\n",
       "      <td>Hydropower</td>\n",
       "      <td>200</td>\n",
       "      <td>350</td>\n",
       "      <td>Washington</td>\n",
       "      <td>2022</td>\n",
       "    </tr>\n",
       "  </tbody>\n",
       "</table>\n",
       "</div>"
      ],
      "text/plain": [
       "          Project  Technology  Capacity (MW)  Cost (Million $)    Location  \\\n",
       "0    Solar Farm A       Solar            150               200  California   \n",
       "1  Wind Turbine X        Wind            300               400       Texas   \n",
       "2    Hydropower Y  Hydropower            200               350  Washington   \n",
       "\n",
       "   Completion Year  \n",
       "0             2023  \n",
       "1             2024  \n",
       "2             2022  "
      ]
     },
     "execution_count": 12,
     "metadata": {},
     "output_type": "execute_result"
    }
   ],
   "source": [
    "#filtration\n",
    "\n",
    "project_df = pd.DataFrame(data)\n",
    "\n",
    "# Filter projects with capacity more than 100 MW\n",
    "high_capacity_projects = project_df[project_df[\"Capacity (MW)\"] > 100]\n",
    "high_capacity_projects.head()\n"
   ]
  },
  {
   "cell_type": "code",
   "execution_count": 13,
   "id": "8c592c8e-e8e8-4fe1-aa92-d942af8b4c08",
   "metadata": {},
   "outputs": [
    {
     "data": {
      "text/html": [
       "<div>\n",
       "<style scoped>\n",
       "    .dataframe tbody tr th:only-of-type {\n",
       "        vertical-align: middle;\n",
       "    }\n",
       "\n",
       "    .dataframe tbody tr th {\n",
       "        vertical-align: top;\n",
       "    }\n",
       "\n",
       "    .dataframe thead th {\n",
       "        text-align: right;\n",
       "    }\n",
       "</style>\n",
       "<table border=\"1\" class=\"dataframe\">\n",
       "  <thead>\n",
       "    <tr style=\"text-align: right;\">\n",
       "      <th></th>\n",
       "      <th>Project</th>\n",
       "      <th>Technology</th>\n",
       "      <th>Capacity (MW)</th>\n",
       "      <th>Cost (Million $)</th>\n",
       "      <th>Location</th>\n",
       "      <th>Completion Year</th>\n",
       "      <th>Cost per MW (Million $/MW)</th>\n",
       "    </tr>\n",
       "  </thead>\n",
       "  <tbody>\n",
       "    <tr>\n",
       "      <th>0</th>\n",
       "      <td>Solar Farm A</td>\n",
       "      <td>Solar</td>\n",
       "      <td>150</td>\n",
       "      <td>200</td>\n",
       "      <td>California</td>\n",
       "      <td>2023</td>\n",
       "      <td>1.333333</td>\n",
       "    </tr>\n",
       "    <tr>\n",
       "      <th>1</th>\n",
       "      <td>Wind Turbine X</td>\n",
       "      <td>Wind</td>\n",
       "      <td>300</td>\n",
       "      <td>400</td>\n",
       "      <td>Texas</td>\n",
       "      <td>2024</td>\n",
       "      <td>1.333333</td>\n",
       "    </tr>\n",
       "    <tr>\n",
       "      <th>2</th>\n",
       "      <td>Hydropower Y</td>\n",
       "      <td>Hydropower</td>\n",
       "      <td>200</td>\n",
       "      <td>350</td>\n",
       "      <td>Washington</td>\n",
       "      <td>2022</td>\n",
       "      <td>1.750000</td>\n",
       "    </tr>\n",
       "    <tr>\n",
       "      <th>3</th>\n",
       "      <td>Solar Roof Z</td>\n",
       "      <td>Solar</td>\n",
       "      <td>50</td>\n",
       "      <td>100</td>\n",
       "      <td>Nevada</td>\n",
       "      <td>2025</td>\n",
       "      <td>2.000000</td>\n",
       "    </tr>\n",
       "    <tr>\n",
       "      <th>4</th>\n",
       "      <td>Geothermal Plant P</td>\n",
       "      <td>Geothermal</td>\n",
       "      <td>100</td>\n",
       "      <td>250</td>\n",
       "      <td>Idaho</td>\n",
       "      <td>2023</td>\n",
       "      <td>2.500000</td>\n",
       "    </tr>\n",
       "  </tbody>\n",
       "</table>\n",
       "</div>"
      ],
      "text/plain": [
       "              Project  Technology  Capacity (MW)  Cost (Million $)  \\\n",
       "0        Solar Farm A       Solar            150               200   \n",
       "1      Wind Turbine X        Wind            300               400   \n",
       "2        Hydropower Y  Hydropower            200               350   \n",
       "3        Solar Roof Z       Solar             50               100   \n",
       "4  Geothermal Plant P  Geothermal            100               250   \n",
       "\n",
       "     Location  Completion Year  Cost per MW (Million $/MW)  \n",
       "0  California             2023                    1.333333  \n",
       "1       Texas             2024                    1.333333  \n",
       "2  Washington             2022                    1.750000  \n",
       "3      Nevada             2025                    2.000000  \n",
       "4       Idaho             2023                    2.500000  "
      ]
     },
     "execution_count": 13,
     "metadata": {},
     "output_type": "execute_result"
    }
   ],
   "source": [
    "#Add new column\n",
    "\n",
    "project_df = pd.DataFrame(data)\n",
    "\n",
    "# Add a new column for cost per MW\n",
    "project_df[\"Cost per MW (Million $/MW)\"] = project_df[\"Cost (Million $)\"] / project_df[\"Capacity (MW)\"]\n",
    "\n",
    "project_df.head()\n"
   ]
  },
  {
   "cell_type": "code",
   "execution_count": 17,
   "id": "1e925524-67c7-4f06-9c4a-cb08db5ae45a",
   "metadata": {},
   "outputs": [
    {
     "name": "stdout",
     "output_type": "stream",
     "text": [
      "Total Capacity for each type of technology:\n"
     ]
    },
    {
     "data": {
      "text/plain": [
       "Technology\n",
       "Geothermal    100\n",
       "Hydropower    200\n",
       "Solar         200\n",
       "Wind          300\n",
       "Name: Capacity (MW), dtype: int64"
      ]
     },
     "execution_count": 17,
     "metadata": {},
     "output_type": "execute_result"
    }
   ],
   "source": [
    "# sum finding\n",
    "\n",
    "df = pd.DataFrame(data)\n",
    "\n",
    "# Calculate total capacity for each type of technology\n",
    "total_capacity = df.groupby(\"Technology\")[\"Capacity (MW)\"].sum()\n",
    "\n",
    "print(\"Total Capacity for each type of technology:\")\n",
    "total_capacity.head()\n"
   ]
  },
  {
   "cell_type": "code",
   "execution_count": null,
   "id": "258d4508-1f83-4194-8ac9-b1f1fb80cb3c",
   "metadata": {},
   "outputs": [],
   "source": []
  },
  {
   "cell_type": "code",
   "execution_count": null,
   "id": "2752c278-0dd6-4c11-8126-e6f8eac91794",
   "metadata": {},
   "outputs": [],
   "source": []
  },
  {
   "cell_type": "code",
   "execution_count": null,
   "id": "4734a9c4-43b9-4bf1-805e-a3b21d789107",
   "metadata": {},
   "outputs": [],
   "source": [
    "#Numpy"
   ]
  },
  {
   "cell_type": "code",
   "execution_count": 20,
   "id": "994fbd9d-98fc-4509-9d25-d98d797255c0",
   "metadata": {},
   "outputs": [
    {
     "name": "stdout",
     "output_type": "stream",
     "text": [
      "Requirement already satisfied: numpy in c:\\users\\nice\\appdata\\local\\programs\\python\\python312\\lib\\site-packages (2.0.2)\n"
     ]
    },
    {
     "name": "stderr",
     "output_type": "stream",
     "text": [
      "WARNING: Ignoring invalid distribution ~eras (C:\\Users\\NICE\\AppData\\Local\\Programs\\Python\\Python312\\Lib\\site-packages)\n",
      "WARNING: Ignoring invalid distribution ~eras (C:\\Users\\NICE\\AppData\\Local\\Programs\\Python\\Python312\\Lib\\site-packages)\n",
      "WARNING: Ignoring invalid distribution ~eras (C:\\Users\\NICE\\AppData\\Local\\Programs\\Python\\Python312\\Lib\\site-packages)\n"
     ]
    }
   ],
   "source": [
    "!pip install numpy"
   ]
  },
  {
   "cell_type": "code",
   "execution_count": 21,
   "id": "8b206c8d-02e4-456e-a011-676c5de8dc01",
   "metadata": {},
   "outputs": [
    {
     "name": "stdout",
     "output_type": "stream",
     "text": [
      "One-dimensional array: [1 2 3 4 5]\n"
     ]
    }
   ],
   "source": [
    "import numpy as np\n",
    "\n",
    "one_d_array = np.array([1, 2, 3, 4, 5])\n",
    "\n",
    "print(\"One-dimensional array:\", one_d_array)\n"
   ]
  },
  {
   "cell_type": "code",
   "execution_count": 31,
   "id": "11635e19-1918-4950-b702-8afdb4cde9c4",
   "metadata": {},
   "outputs": [
    {
     "name": "stdout",
     "output_type": "stream",
     "text": [
      "Two-dimensional array:\n",
      "[[1 2 3]\n",
      " [4 5 6]\n",
      " [7 8 9]]\n"
     ]
    }
   ],
   "source": [
    "import numpy as np\n",
    "\n",
    "\n",
    "two_d_array = np.array([[1, 2, 3], [4, 5, 6], [7, 8, 9]])\n",
    "\n",
    "print(\"Two-dimensional array:\")\n",
    "print(two_d_array)\n"
   ]
  },
  {
   "cell_type": "code",
   "execution_count": 23,
   "id": "d5560ca5-8d71-42c0-a15e-91ba866ae19c",
   "metadata": {},
   "outputs": [
    {
     "name": "stdout",
     "output_type": "stream",
     "text": [
      "Three-dimensional array:\n",
      "[[[ 1  2  3]\n",
      "  [ 4  5  6]]\n",
      "\n",
      " [[ 7  8  9]\n",
      "  [10 11 12]]]\n"
     ]
    }
   ],
   "source": [
    "import numpy as np\n",
    "\n",
    "# Create a three-dimensional array\n",
    "three_d_array = np.array([[[1, 2, 3], [4, 5, 6]], [[7, 8, 9], [10, 11, 12]]])\n",
    "\n",
    "print(\"Three-dimensional array:\")\n",
    "print(three_d_array)\n"
   ]
  },
  {
   "cell_type": "code",
   "execution_count": 24,
   "id": "da74152f-0098-4cf5-8fd1-36868460f0da",
   "metadata": {},
   "outputs": [
    {
     "data": {
      "text/plain": [
       "(2, 2, 3)"
      ]
     },
     "execution_count": 24,
     "metadata": {},
     "output_type": "execute_result"
    }
   ],
   "source": [
    "three_d_array.shape"
   ]
  },
  {
   "cell_type": "code",
   "execution_count": 26,
   "id": "439baac1-f4f0-43b2-a725-16c9257602cd",
   "metadata": {},
   "outputs": [
    {
     "data": {
      "text/plain": [
       "3"
      ]
     },
     "execution_count": 26,
     "metadata": {},
     "output_type": "execute_result"
    }
   ],
   "source": [
    "three_d_array.ndim"
   ]
  },
  {
   "cell_type": "code",
   "execution_count": 27,
   "id": "083fc843-33b6-429e-8db8-587253c003bf",
   "metadata": {},
   "outputs": [
    {
     "data": {
      "text/plain": [
       "12"
      ]
     },
     "execution_count": 27,
     "metadata": {},
     "output_type": "execute_result"
    }
   ],
   "source": [
    "three_d_array.size"
   ]
  },
  {
   "cell_type": "code",
   "execution_count": 28,
   "id": "424ae889-4b62-4ac3-88c6-d9db6e922468",
   "metadata": {},
   "outputs": [
    {
     "data": {
      "text/plain": [
       "dtype('int64')"
      ]
     },
     "execution_count": 28,
     "metadata": {},
     "output_type": "execute_result"
    }
   ],
   "source": [
    "three_d_array.dtype"
   ]
  },
  {
   "cell_type": "code",
   "execution_count": 33,
   "id": "003c2aa2-7ea6-4a7d-bfcc-c3a2059890e6",
   "metadata": {},
   "outputs": [
    {
     "data": {
      "text/plain": [
       "8"
      ]
     },
     "execution_count": 33,
     "metadata": {},
     "output_type": "execute_result"
    }
   ],
   "source": [
    "three_d_array.itemsize"
   ]
  },
  {
   "cell_type": "code",
   "execution_count": 32,
   "id": "0552fad5-aee6-4a3c-aa6a-9931635f0670",
   "metadata": {},
   "outputs": [
    {
     "data": {
      "text/plain": [
       "8"
      ]
     },
     "execution_count": 32,
     "metadata": {},
     "output_type": "execute_result"
    }
   ],
   "source": [
    "two_d_array.itemsize"
   ]
  },
  {
   "cell_type": "code",
   "execution_count": 35,
   "id": "57a76a69-72b9-440a-82c0-fc30929cffc6",
   "metadata": {},
   "outputs": [
    {
     "data": {
      "text/plain": [
       "array([1., 1., 1.])"
      ]
     },
     "execution_count": 35,
     "metadata": {},
     "output_type": "execute_result"
    }
   ],
   "source": [
    "np.ones(3)"
   ]
  },
  {
   "cell_type": "code",
   "execution_count": 38,
   "id": "2629f1e8-ecfc-45ed-a567-b5447de548de",
   "metadata": {},
   "outputs": [
    {
     "data": {
      "text/plain": [
       "array([0., 0., 0.])"
      ]
     },
     "execution_count": 38,
     "metadata": {},
     "output_type": "execute_result"
    }
   ],
   "source": [
    "np.zeros(3)\n"
   ]
  },
  {
   "cell_type": "code",
   "execution_count": 37,
   "id": "64d751fc-3529-42ac-b8ab-e6afdc363de7",
   "metadata": {},
   "outputs": [
    {
     "data": {
      "text/plain": [
       "array([0.1141933 , 0.08141418, 0.6704471 , 0.41858023, 0.42975133])"
      ]
     },
     "execution_count": 37,
     "metadata": {},
     "output_type": "execute_result"
    }
   ],
   "source": [
    "np.random.random(5)"
   ]
  },
  {
   "cell_type": "code",
   "execution_count": 41,
   "id": "f71884db-9b1c-4231-85fc-afb70e304aad",
   "metadata": {},
   "outputs": [
    {
     "name": "stdout",
     "output_type": "stream",
     "text": [
      "[[5 5 5 5 5 5 5 5 5 5 5 5 5 5 5 5]\n",
      " [5 5 5 5 5 5 5 5 5 5 5 5 5 5 5 5]\n",
      " [5 5 5 5 5 5 5 5 5 5 5 5 5 5 5 5]\n",
      " [5 5 5 5 5 5 5 5 5 5 5 5 5 5 5 5]\n",
      " [5 5 5 5 5 5 5 5 5 5 5 5 5 5 5 5]\n",
      " [5 5 5 5 5 5 5 5 5 5 5 5 5 5 5 5]\n",
      " [5 5 5 5 5 5 5 5 5 5 5 5 5 5 5 5]\n",
      " [5 5 5 5 5 5 5 5 5 5 5 5 5 5 5 5]\n",
      " [5 5 5 5 5 5 5 5 5 5 5 5 5 5 5 5]\n",
      " [5 5 5 5 5 5 5 5 5 5 5 5 5 5 5 5]\n",
      " [5 5 5 5 5 5 5 5 5 5 5 5 5 5 5 5]\n",
      " [5 5 5 5 5 5 5 5 5 5 5 5 5 5 5 5]\n",
      " [5 5 5 5 5 5 5 5 5 5 5 5 5 5 5 5]\n",
      " [5 5 5 5 5 5 5 5 5 5 5 5 5 5 5 5]\n",
      " [5 5 5 5 5 5 5 5 5 5 5 5 5 5 5 5]\n",
      " [5 5 5 5 5 5 5 5 5 5 5 5 5 5 5 5]]\n"
     ]
    }
   ],
   "source": [
    "array = np.full((16,16),5)\n",
    "print(array)"
   ]
  },
  {
   "cell_type": "code",
   "execution_count": 45,
   "id": "fd90f974-337e-4bdd-a87a-cf881dd8356d",
   "metadata": {},
   "outputs": [
    {
     "name": "stdout",
     "output_type": "stream",
     "text": [
      "[[1. 0. 0. 0. 0. 0.]\n",
      " [0. 1. 0. 0. 0. 0.]\n",
      " [0. 0. 1. 0. 0. 0.]\n",
      " [0. 0. 0. 1. 0. 0.]\n",
      " [0. 0. 0. 0. 1. 0.]\n",
      " [0. 0. 0. 0. 0. 1.]]\n"
     ]
    }
   ],
   "source": [
    "identity = np.identity(6)\n",
    "print(identity)"
   ]
  },
  {
   "cell_type": "code",
   "execution_count": 49,
   "id": "324a43f5-1d39-4af9-ab23-c281a8c89b44",
   "metadata": {},
   "outputs": [
    {
     "name": "stdout",
     "output_type": "stream",
     "text": [
      "[0 1 2 3 4 5 6]\n",
      "[ 1  4  7 10 13 16 19]\n"
     ]
    }
   ],
   "source": [
    "arrange = np.arange(7)\n",
    "print(arrange)\n",
    "arrange = np.arange(1,20,3)\n",
    "print(arrange)"
   ]
  },
  {
   "cell_type": "code",
   "execution_count": 50,
   "id": "0e4dface-a89e-41fe-97cc-cadb8e1b99b3",
   "metadata": {},
   "outputs": [
    {
     "name": "stdout",
     "output_type": "stream",
     "text": [
      "[ 1.  10.5 20. ]\n"
     ]
    }
   ],
   "source": [
    "arrange = np.linspace(1,20,3)\n",
    "print(arrange)"
   ]
  },
  {
   "cell_type": "code",
   "execution_count": 51,
   "id": "29723c2a-b90d-4fb1-b1b4-e918abf44263",
   "metadata": {},
   "outputs": [
    {
     "name": "stdout",
     "output_type": "stream",
     "text": [
      "With endpoint=True: [ 1.  10.5 20. ]\n",
      "With endpoint=False: [ 1.          7.33333333 13.66666667]\n"
     ]
    }
   ],
   "source": [
    "import numpy as np\n",
    "\n",
    "# With endpoint=True (default)\n",
    "array_with_endpoint = np.linspace(1, 20, 3, endpoint=True)\n",
    "print(\"With endpoint=True:\", array_with_endpoint)\n",
    "\n",
    "# With endpoint=False\n",
    "array_without_endpoint = np.linspace(1, 20, 3, endpoint=False)\n",
    "print(\"With endpoint=False:\", array_without_endpoint)\n"
   ]
  },
  {
   "cell_type": "code",
   "execution_count": 52,
   "id": "c1cf841b-f3dd-4496-bd8e-a72e809caeb2",
   "metadata": {},
   "outputs": [],
   "source": [
    "#indexing"
   ]
  },
  {
   "cell_type": "code",
   "execution_count": 53,
   "id": "47ee90e1-db53-40c9-98c2-1b008ca5f305",
   "metadata": {},
   "outputs": [
    {
     "name": "stdout",
     "output_type": "stream",
     "text": [
      "First element: 10\n",
      "Last element: 50\n"
     ]
    }
   ],
   "source": [
    "import numpy as np\n",
    "\n",
    "# Create a one-dimensional array\n",
    "one_d_array = np.array([10, 20, 30, 40, 50])\n",
    "\n",
    "# Access the first element\n",
    "first_element = one_d_array[0]\n",
    "print(\"First element:\", first_element)\n",
    "\n",
    "# Access the last element\n",
    "last_element = one_d_array[-1]\n",
    "print(\"Last element:\", last_element)\n"
   ]
  },
  {
   "cell_type": "code",
   "execution_count": 54,
   "id": "9c1e561b-910c-4fa6-9279-f9185a2c1fb4",
   "metadata": {},
   "outputs": [
    {
     "name": "stdout",
     "output_type": "stream",
     "text": [
      "Middle number: 30\n"
     ]
    }
   ],
   "source": [
    "import numpy as np\n",
    "\n",
    "# Create a one-dimensional array\n",
    "one_d_array = np.array([10, 20, 30, 40, 50])\n",
    "\n",
    "# Find the middle index\n",
    "middle_index = len(one_d_array) // 2\n",
    "\n",
    "# Print the middle number\n",
    "middle_number = one_d_array[middle_index]\n",
    "print(\"Middle number:\", middle_number)\n"
   ]
  },
  {
   "cell_type": "code",
   "execution_count": 55,
   "id": "cddf44a0-d032-40a4-90b8-07d23661cb47",
   "metadata": {},
   "outputs": [
    {
     "name": "stdout",
     "output_type": "stream",
     "text": [
      "[50 40 30 20 10]\n"
     ]
    }
   ],
   "source": [
    "#palidrome\n",
    "\n",
    "one_d_array = np.array([10, 20, 30, 40, 50])\n",
    "print(one_d_array [::-1])"
   ]
  },
  {
   "cell_type": "code",
   "execution_count": 61,
   "id": "8ee89c65-a298-476f-afc7-bc48cfcaf1c6",
   "metadata": {},
   "outputs": [
    {
     "name": "stdout",
     "output_type": "stream",
     "text": [
      "[10 20 30 40 50] is not a palindrome number.\n"
     ]
    }
   ],
   "source": [
    "def is_palindrome(number):\n",
    "    # Convert the number to a string\n",
    "    num_str = str(number)\n",
    "    # Check if the string is equal to its reverse\n",
    "    return num_str == num_str[::-1]\n",
    "\n",
    "# Test the function\n",
    "number = one_d_array\n",
    "if is_palindrome(number):\n",
    "    print(f\"{number} is a palindrome number.\")\n",
    "else:\n",
    "    print(f\"{number} is not a palindrome number.\")\n"
   ]
  },
  {
   "cell_type": "code",
   "execution_count": 71,
   "id": "d4ae2440-735a-4a50-81df-1635a30da838",
   "metadata": {},
   "outputs": [
    {
     "name": "stdout",
     "output_type": "stream",
     "text": [
      "Reshaped array:\n",
      "[[2 5 8]\n",
      " [3 6 6]\n",
      " [4 7 7]]\n"
     ]
    }
   ],
   "source": [
    "data = np.array([2, 3, 4, 5, 6, 7, 8,6,7])\n",
    "reshaped_data = data.reshape(3, 3)\n",
    "print(\"Reshaped array:\")\n",
    "print(reshaped_data.T)\n"
   ]
  },
  {
   "cell_type": "code",
   "execution_count": 72,
   "id": "f297fba7-7348-43be-9673-f61d17d1991e",
   "metadata": {},
   "outputs": [
    {
     "name": "stdout",
     "output_type": "stream",
     "text": [
      "Reshaped array:\n",
      "[[2 3 4]\n",
      " [5 6 7]\n",
      " [8 6 7]]\n"
     ]
    }
   ],
   "source": [
    "data = np.array([2, 3, 4, 5, 6, 7, 8,6,7])\n",
    "reshaped_data = data.reshape(3, 3)\n",
    "print(\"Reshaped array:\")\n",
    "print(reshaped_data)\n"
   ]
  },
  {
   "cell_type": "code",
   "execution_count": 77,
   "id": "b3f7e89f-a1ad-44aa-891c-bd7e2b404a4a",
   "metadata": {},
   "outputs": [
    {
     "name": "stdout",
     "output_type": "stream",
     "text": [
      "Reshaped array:\n",
      "[2 5 8 3 6 6 4 7 7]\n"
     ]
    }
   ],
   "source": [
    "#for column wise\n",
    "\n",
    "data = np.array([2, 3, 4, 5, 6, 7, 8,6,7])\n",
    "reshaped_data = data.reshape(3, 3)\n",
    "print(\"Reshaped array:\")\n",
    "print(reshaped_data.flatten('F'))\n"
   ]
  },
  {
   "cell_type": "code",
   "execution_count": 76,
   "id": "490adad0-f1af-474c-86c8-1d9c56d42030",
   "metadata": {},
   "outputs": [
    {
     "name": "stdout",
     "output_type": "stream",
     "text": [
      "Reshaped array:\n",
      "[2 3 4 5 6 7 8 6 7]\n"
     ]
    }
   ],
   "source": [
    "#for row value\n",
    "data = np.array([2, 3, 4, 5, 6, 7, 8,6,7])\n",
    "reshaped_data = data.reshape(3, 3)\n",
    "print(\"Reshaped array:\")\n",
    "print(reshaped_data.flatten())\n"
   ]
  },
  {
   "cell_type": "code",
   "execution_count": null,
   "id": "82704406-61bd-42df-886b-de36a699cb7f",
   "metadata": {},
   "outputs": [],
   "source": [
    "#write statical word for example in pyhton"
   ]
  },
  {
   "cell_type": "code",
   "execution_count": 78,
   "id": "c8571a07-1ab7-469e-af9e-d3771d9df8ae",
   "metadata": {},
   "outputs": [
    {
     "name": "stdout",
     "output_type": "stream",
     "text": [
      "Mean: 5.0\n",
      "Median: 5.0\n",
      "Standard Deviation: 2.0\n",
      "Variance: 4.0\n",
      "Sum: 35\n"
     ]
    }
   ],
   "source": [
    "\n",
    "data = np.array([2, 3, 4, 5, 6, 7])\n",
    "\n",
    "mean = np.mean(data)\n",
    "print(\"Mean:\", mean)\n",
    "\n",
    "median = np.median(data)\n",
    "print(\"Median:\", median)\n",
    "\n",
    "std_dev = np.std(data)\n",
    "print(\"Standard Deviation:\", std_dev)\n",
    "\n",
    "variance = np.var(data)\n",
    "print(\"Variance:\", variance)\n",
    "\n",
    "total_sum = np.sum(data)\n",
    "print(\"Sum:\", total_sum)\n"
   ]
  },
  {
   "cell_type": "code",
   "execution_count": 81,
   "id": "954083c2-e6d5-4256-879f-25fc2260e3ea",
   "metadata": {},
   "outputs": [
    {
     "name": "stdout",
     "output_type": "stream",
     "text": [
      "Reshaped array:\n",
      "[[2 3 4]\n",
      " [5 6 7]]\n"
     ]
    }
   ],
   "source": [
    "\n",
    "data = np.array([2, 3, 4, 5, 6, 7])\n",
    "\n",
    "\n",
    "reshaped_data = data.reshape(2, 3)\n",
    "\n",
    "print(\"Reshaped array:\")\n",
    "print(reshaped_data)\n"
   ]
  },
  {
   "cell_type": "code",
   "execution_count": null,
   "id": "077fc941-fc22-4055-bf49-006ec12c1fdc",
   "metadata": {},
   "outputs": [],
   "source": [
    "data = {\n",
    "    \"Energy Source\": [\"Solar\", \"Wind\", \"Hydropower\", \"Geothermal\", \"Biomass\", \"Nuclear\"],\n",
    "    \"Energy Consumption (MWh)\": [1200, np.nan, 2900, np.nan, 2500, 3200],\n",
    "    \"Cost (Million $)\": [200, 400, np.nan, 150, 250, np.nan]\n",
    "}\n",
    "\n",
    "\n",
    "\n"
   ]
  }
 ],
 "metadata": {
  "kernelspec": {
   "display_name": "Python 3 (ipykernel)",
   "language": "python",
   "name": "python3"
  },
  "language_info": {
   "codemirror_mode": {
    "name": "ipython",
    "version": 3
   },
   "file_extension": ".py",
   "mimetype": "text/x-python",
   "name": "python",
   "nbconvert_exporter": "python",
   "pygments_lexer": "ipython3",
   "version": "3.12.6"
  }
 },
 "nbformat": 4,
 "nbformat_minor": 5
}
